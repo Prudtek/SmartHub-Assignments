{
 "cells": [
  {
   "cell_type": "code",
   "execution_count": 3,
   "metadata": {},
   "outputs": [
    {
     "name": "stdout",
     "output_type": "stream",
     "text": [
      "Enter the value of X1 7\n",
      "enter the value of X2 9\n",
      "enter the value of y2 6\n",
      "enter the value of y2 9\n",
      "3.605551275463989\n"
     ]
    }
   ],
   "source": [
    "x1 = float(input(\"Enter the value of X1 \"))\n",
    "x2 = float(input(\"enter the value of X2 \"))\n",
    "y1 = float(input(\"enter the value of y2 \"))\n",
    "y2 = float(input(\"enter the value of y2 \"))\n",
    "d = ((x2-x1)**2 + (y2-y1)**2)**0.5\n",
    "print(d)"
   ]
  },
  {
   "cell_type": "code",
   "execution_count": null,
   "metadata": {},
   "outputs": [],
   "source": []
  }
 ],
 "metadata": {
  "kernelspec": {
   "display_name": "Python 3",
   "language": "python",
   "name": "python3"
  },
  "language_info": {
   "codemirror_mode": {
    "name": "ipython",
    "version": 3
   },
   "file_extension": ".py",
   "mimetype": "text/x-python",
   "name": "python",
   "nbconvert_exporter": "python",
   "pygments_lexer": "ipython3",
   "version": "3.8.5"
  }
 },
 "nbformat": 4,
 "nbformat_minor": 4
}
